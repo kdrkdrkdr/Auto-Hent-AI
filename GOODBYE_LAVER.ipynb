{
  "cells": [
    {
      "cell_type": "code",
      "execution_count": null,
      "metadata": {
        "id": "95a87y7f8t0z"
      },
      "outputs": [],
      "source": [
        "# Clone GoodbyeLaver\n",
        "!git clone https://github.com/kdrkdrkdr/GoodbyeLaver\n",
        "\n",
        "# Install hent-AI\n",
        "%cd /content/GoodbyeLaver/hent-AI/\n",
        "!wget https://github.com/kdrkdrkdr/GoodbyeLaver/releases/download/1.0/4x_FatalPixels_340000_G.pth\n",
        "!wget https://github.com/kdrkdrkdr/GoodbyeLaver/releases/download/1.0/weights.h5\n",
        "!pip install --upgrade pip\n",
        "!pip install -r requirements.txt\n",
        "\n",
        "# Downgrade tensorflow and keras\n",
        "!pip uninstall tensorflow -y\n",
        "!pip uninstall keras -y\n",
        "!pip install keras==2.3.1\n",
        "!pip install tensorflow-gpu==1.15\n",
        "!apt install --allow-change-held-packages libcudnn7=7.4.1.5-1+cuda10.0\n",
        "\n",
        "!python setup.py install\n",
        "!add-apt-repository ppa:jon-severinsson/ffmpeg\n",
        "!apt-get update\n",
        "!apt-get install ffmpeg\n",
        "\n",
        "# Install lama_cleaner\n",
        "%cd /content/GoodbyeLaver/lama_cleaner/\n",
        "!pip install -r requirements.txt\n",
        "\n",
        "# Make directory\n",
        "!mkdir /content/image_original/\n",
        "!mkdir /content/image_detected/\n",
        "!mkdir /content/image_uncensored/\n",
        "\n",
        "# Run lama server\n",
        "%cd /content/GoodbyeLaver/\n",
        "!nohup python lama.py --port 5003 &\n",
        "\n",
        "# Load CUDA\n",
        "%cd /content/GoodbyeLaver/hent-AI/\n",
        "from detector import Detector\n",
        "d = Detector('weights.h5')"
      ]
    },
    {
      "cell_type": "code",
      "execution_count": null,
      "metadata": {
        "id": "FdonSouNSo2l"
      },
      "outputs": [],
      "source": [
        "# Run Decensoring!\n",
        "# Upload the censored image to the \"/content/image_original/\" folder, and run this cell.\n",
        "!rm -rf /content/image_detected/*\n",
        "!rm -rf /content/image_uncensored/*\n",
        "!rm -rf /content/uncensored_image.zip\n",
        "\n",
        "# Convert image files to png files.\n",
        "import os\n",
        "from PIL import Image\n",
        "files = os.listdir(\"/content/image_original/\")\n",
        "for filename in files:\n",
        "    file_wo_ext, file_ext = os.path.splitext(filename)\n",
        "    if file_ext.lower() != \".png\":\n",
        "        img_path = f'/content/image_original/{filename}'\n",
        "        Image.open(img_path).save(f'/content/image_original/{file_wo_ext}.png', 'PNG')\n",
        "        os.remove(img_path)   \n",
        "\n",
        "# Detecting bar censored\n",
        "%cd /content/GoodbyeLaver/hent-AI/\n",
        "d.run_on_folder(\n",
        "    input_folder='/content/image_original/',\n",
        "    output_folder='/content/image_detected/', \n",
        "    is_video=False, \n",
        "    is_mosaic=False,\n",
        "    dilation=3\n",
        ")\n",
        "\n",
        "# Inpainting image\n",
        "%cd /content/GoodbyeLaver/\n",
        "!python inpainting.py\n",
        "\n",
        "# Download Uncensored Image\n",
        "!zip -r /content/uncensored_image.zip /content/image_uncensored/\n",
        "from google.colab import files\n",
        "files.download(\"/content/uncensored_image.zip\")"
      ]
    },
    {
      "cell_type": "code",
      "execution_count": 6,
      "metadata": {
        "id": "cRm-J9-nofNX"
      },
      "outputs": [],
      "source": [
        "# Run this cell if you want to delete all uploaded images.\n",
        "!rm -rf /content/image_original/*"
      ]
    }
  ],
  "metadata": {
    "accelerator": "GPU",
    "colab": {
      "collapsed_sections": [],
      "name": "hentai.ipynb",
      "provenance": []
    },
    "kernelspec": {
      "display_name": "Python 3",
      "name": "python3"
    },
    "language_info": {
      "name": "python"
    }
  },
  "nbformat": 4,
  "nbformat_minor": 0
}
